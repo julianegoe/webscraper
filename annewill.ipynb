{
  "cells": [
    {
      "cell_type": "markdown",
      "source": [
        "# web scrape Anne Will Gäste"
      ],
      "metadata": {}
    },
    {
      "cell_type": "markdown",
      "source": [
        "## Install packages"
      ],
      "metadata": {}
    },
    {
      "cell_type": "code",
      "source": [
        "# Install a pip package in the current Jupyter kernel\n",
        "import sys\n",
        "!{sys.executable} -m pip install --user bs4 \n",
        "!{sys.executable} -m pip install --user requests nltk nameparser"
      ],
      "outputs": [
        {
          "output_type": "stream",
          "name": "stdout",
          "text": [
            "Requirement already satisfied: bs4 in /home/silvio/.local/lib/python3.6/site-packages (0.0.1)\n",
            "Requirement already satisfied: beautifulsoup4 in /home/silvio/.local/lib/python3.6/site-packages (from bs4) (4.7.1)\n",
            "Requirement already satisfied: soupsieve>=1.2 in /home/silvio/.local/lib/python3.6/site-packages (from beautifulsoup4->bs4) (1.9)\n",
            "Requirement already satisfied: requests in /home/silvio/.local/lib/python3.6/site-packages (2.21.0)\n",
            "Requirement already satisfied: nltk in /home/silvio/.local/lib/python3.6/site-packages (3.4)\n",
            "Requirement already satisfied: nameparser in /home/silvio/.local/lib/python3.6/site-packages (1.0.3)\n",
            "Requirement already satisfied: idna<2.9,>=2.5 in /home/silvio/.local/lib/python3.6/site-packages (from requests) (2.8)\n",
            "Requirement already satisfied: urllib3<1.25,>=1.21.1 in /home/silvio/.local/lib/python3.6/site-packages (from requests) (1.24.1)\n",
            "Requirement already satisfied: chardet<3.1.0,>=3.0.2 in /home/silvio/.local/lib/python3.6/site-packages (from requests) (3.0.4)\n",
            "Requirement already satisfied: certifi>=2017.4.17 in /home/silvio/.local/lib/python3.6/site-packages (from requests) (2019.3.9)\n",
            "Requirement already satisfied: six in /home/silvio/.local/lib/python3.6/site-packages (from nltk) (1.12.0)\n",
            "Requirement already satisfied: singledispatch in /home/silvio/.local/lib/python3.6/site-packages (from nltk) (3.4.0.3)\n"
          ]
        }
      ],
      "execution_count": 14,
      "metadata": {
        "collapsed": false,
        "outputHidden": false,
        "inputHidden": false
      }
    },
    {
      "cell_type": "markdown",
      "source": [
        "## import packages and get archive website"
      ],
      "metadata": {}
    },
    {
      "cell_type": "code",
      "source": [
        "import re\n",
        "from bs4 import BeautifulSoup\n",
        "import requests\n",
        "import json\n",
        "import re\n",
        "url = 'https://daserste.ndr.de/annewill/archiv/index.html' #Sendungsarchiv von Anne Will\n",
        "response = requests.get(url, timeout=5)\n",
        "content = BeautifulSoup(response.content, \"html.parser\")"
      ],
      "outputs": [],
      "execution_count": 3,
      "metadata": {
        "collapsed": false,
        "outputHidden": false,
        "inputHidden": false
      }
    },
    {
      "cell_type": "markdown",
      "source": [
        "### find all paragraphes that contain the class \"teasertext\""
      ],
      "metadata": {}
    },
    {
      "cell_type": "code",
      "source": [
        "content.find_all(\"p\", class_= \"teasertext\")"
      ],
      "outputs": [
        {
          "output_type": "execute_result",
          "execution_count": 4,
          "data": {
            "text/plain": [
              "[<p class=\"teasertext\">\n",
              " <a href=\"/annewill/archiv/Streiken-statt-Pauken-aendert-die-Generation-Greta-die-Politik,erste11444.html\" title=\"Zum Artikel: Streiken statt Pauken - ändert die Generation Greta die Politik?\">\n",
              " Anne Will im Gespräch mit Greta Thunberg. Gäste im Studio: Robert Habeck, Reiner Haseloff, Wolfgang Kubicki, Therese Kah und Harald Lesch.\n",
              " </a> | <strong><a href=\"/annewill/archiv/Streiken-statt-Pauken-aendert-die-Generation-Greta-die-Politik,erste11444.html\" title=\"Zum Artikel: Streiken statt Pauken - ändert die Generation Greta die Politik?\">mehr</a></strong>\n",
              " </p>, <p class=\"teasertext\">\n",
              " <a href=\"/annewill/archiv/Zwischen-Hoechstleistung-und-Ueberlastung-wann-macht-Arbeit-krank,erste11442.html\" title=\"Zum Artikel: Zwischen Höchstleistung und Überlastung – wann macht Arbeit krank?\">\n",
              " Mit Sahra Wagenknecht, Thomas de Maizière, Katja Suding, Alexander Jorde und Klaus Lieb.\n",
              " </a> | <strong><a href=\"/annewill/archiv/Zwischen-Hoechstleistung-und-Ueberlastung-wann-macht-Arbeit-krank,erste11442.html\" title=\"Zum Artikel: Zwischen Höchstleistung und Überlastung – wann macht Arbeit krank?\">mehr</a></strong>\n",
              " </p>, <p class=\"teasertext\">\n",
              " <a href=\"/annewill/archiv/Europa-vor-der-Wahl-mehr-EU-oder-mehr-Nationalstaat,erste11440.html\" title=\"Zum Artikel: Europa vor der Wahl - mehr EU oder mehr Nationalstaat?\">\n",
              " Mit Manfred Weber, Yanis Varoufakis, Beatrix von Storch, Cathrin Kahlweit und Christian Lindner.\n",
              " </a> | <strong><a href=\"/annewill/archiv/Europa-vor-der-Wahl-mehr-EU-oder-mehr-Nationalstaat,erste11440.html\" title=\"Zum Artikel: Europa vor der Wahl - mehr EU oder mehr Nationalstaat?\">mehr</a></strong>\n",
              " </p>, <p class=\"teasertext\">\n",
              " <a href=\"/annewill/archiv/Niedriger-Lohn-magere-Rente-was-ist-uns-Arbeit-wert,erste11438.html\" title=\"Zum Artikel: Niedriger Lohn, magere Rente - was ist uns Arbeit wert?\">\n",
              " Mit Malu Dreyer, Mike Mohring, Katrin Göring-Eckardt, Petra Vogel, Reinhold von Eben-Worlée und als Publikumsgast Guido Fahrendholz.\n",
              " </a> | <strong><a href=\"/annewill/archiv/Niedriger-Lohn-magere-Rente-was-ist-uns-Arbeit-wert,erste11438.html\" title=\"Zum Artikel: Niedriger Lohn, magere Rente - was ist uns Arbeit wert?\">mehr</a></strong>\n",
              " </p>, <p class=\"teasertext\">\n",
              " <a href=\"/annewill/archiv/Krisengipfel-im-Vatikan-wie-entschlossen-kaempft-die-Kirche-gegen-Missbrauch,erste11436.html\" title=\"Zum Artikel: Krisengipfel im Vatikan - wie entschlossen kämpft die Kirche gegen Missbrauch?\">\n",
              " Mit Bischof Stephan Ackermann, Agnes Wich, Johannes-Wilhelm Erik, Matthias Katsch und Heribert Prantl.\n",
              " </a> | <strong><a href=\"/annewill/archiv/Krisengipfel-im-Vatikan-wie-entschlossen-kaempft-die-Kirche-gegen-Missbrauch,erste11436.html\" title=\"Zum Artikel: Krisengipfel im Vatikan - wie entschlossen kämpft die Kirche gegen Missbrauch?\">mehr</a></strong>\n",
              " </p>, <p class=\"teasertext\">\n",
              " <a href=\"/annewill/archiv/Die-neue-Welt-Unordnung-muss-Deutschland-mehr-Verantwortung-uebernehmen,erste11434.html\" title=\"Zum Artikel: Die neue Welt-Unordnung - muss Deutschland mehr Verantwortung übernehmen?\">\n",
              " Mit Heiko Maas, Sevim Dağdelen, Jürgen Trittin, Georg Mascolo und Constanze Stelzenmüller.\n",
              " </a> | <strong><a href=\"/annewill/archiv/Die-neue-Welt-Unordnung-muss-Deutschland-mehr-Verantwortung-uebernehmen,erste11434.html\" title=\"Zum Artikel: Die neue Welt-Unordnung - muss Deutschland mehr Verantwortung übernehmen?\">mehr</a></strong>\n",
              " </p>]"
            ]
          },
          "metadata": {}
        }
      ],
      "execution_count": 4,
      "metadata": {
        "collapsed": false,
        "outputHidden": false,
        "inputHidden": false
      }
    },
    {
      "cell_type": "markdown",
      "source": [
        "### extract the link text out of the paragraphs"
      ],
      "metadata": {}
    },
    {
      "cell_type": "code",
      "source": [
        "list1 =content.find_all(\"p\", class_=\"teasertext\")\n",
        "list1[0].find(\"a\").contents"
      ],
      "outputs": [
        {
          "output_type": "execute_result",
          "execution_count": 5,
          "data": {
            "text/plain": [
              "['\\nAnne Will im Gespräch mit Greta Thunberg. Gäste im Studio: Robert Habeck, Reiner Haseloff, Wolfgang Kubicki, Therese Kah und Harald Lesch.\\n']"
            ]
          },
          "metadata": {}
        }
      ],
      "execution_count": 5,
      "metadata": {
        "collapsed": false,
        "outputHidden": false,
        "inputHidden": false
      }
    },
    {
      "cell_type": "markdown",
      "source": [
        "### text clean als string"
      ],
      "metadata": {}
    },
    {
      "cell_type": "code",
      "source": [
        "text = list1[0].find(\"a\").contents\n",
        "str(text).split(\"\\\\n\")[1]"
      ],
      "outputs": [
        {
          "output_type": "execute_result",
          "execution_count": 15,
          "data": {
            "text/plain": [
              "'Anne Will im Gespräch mit Greta Thunberg. Gäste im Studio: Robert Habeck, Reiner Haseloff, Wolfgang Kubicki, Therese Kah und Harald Lesch.'"
            ]
          },
          "metadata": {}
        }
      ],
      "execution_count": 15,
      "metadata": {
        "collapsed": false,
        "outputHidden": false,
        "inputHidden": false
      }
    },
    {
      "cell_type": "markdown",
      "source": [
        "## Hier ganz billiger Filter mit replace() und strip()"
      ],
      "metadata": {}
    },
    {
      "cell_type": "code",
      "source": [
        "for element in list1:\n",
        "    text =element.find(\"a\").contents\n",
        "    cleanTxt= str(text).split(\"\\\\n\")[1].replace(\"Mit\", \"\").replace(\"mit\", \"\").replace(\"im\", \"\").replace(\"Anne Will\", \"\").rstrip()\n",
        "    cleanTxt = cleanTxt.replace(\"Gespräch\", \"\").replace(\"Gäste\", \"\").replace(\"Studio\", \"\").strip().replace(\".\", \"\").replace(\":\", \"\").replace(\"und\", \",\").replace(\"  \", \",\").replace(\",,\",\",\").strip()\n",
        "    cleanTxt.replace(\", \",\",\").replace(\" ,\",\",\").split(\",\")\n",
        "    print(cleanTxt.replace(\", \",\",\").replace(\" ,\",\",\").split(\",\"))"
      ],
      "outputs": [
        {
          "output_type": "stream",
          "name": "stdout",
          "text": [
            "['Greta Thunberg', 'Robert Habeck', 'Reiner Haseloff', 'Wolfgang Kubicki', 'Therese Kah', 'Harald Lesch']\n",
            "['Sahra Wagenknecht', 'Thomas de Maizière', 'Katja Suding', 'Alexander Jorde', 'Klaus Lieb']\n",
            "['Manfred Weber', 'Yanis Varoufakis', 'Beatrix von Storch', 'Cathrin Kahlweit', 'Christian Lindner']\n",
            "['Malu Dreyer', 'Mike Mohring', 'Katrin Göring-Eckardt', 'Petra Vogel', 'Reinhold von Eben-Worlée', 'als Publikumsgast Guido Fahrendholz']\n",
            "['Bischof Stephan Ackermann', 'Agnes Wich', 'Johannes-Wilhelm Erik', 'Matthias Katsch', 'Heribert Prantl']\n",
            "['Heiko Maas', 'Sev Dağdelen', 'Jürgen Trittin', 'Georg Mascolo', 'Constanze Stelzenmüller']\n"
          ]
        }
      ],
      "execution_count": 17,
      "metadata": {
        "collapsed": false,
        "outputHidden": false,
        "inputHidden": false
      }
    },
    {
      "cell_type": "markdown",
      "source": [
        "#### ganz ok, bis auf sowas wie \"als Publikumsgast\""
      ],
      "metadata": {}
    },
    {
      "cell_type": "markdown",
      "source": [
        "# Richtig heavy nameparser mit tokenizer und shizzle\n",
        "\n",
        "Quelle: \n",
        "google python extract name from text\n",
        "\n",
        "https://stackoverflow.com/questions/20290870/improving-the-extraction-of-human-names-with-nltk\n",
        "\n",
        "## weiterführender Artikel zu nltk und spacy\n",
        "https://towardsdatascience.com/named-entity-recognition-with-nltk-and-spacy-8c4a7d88e7da\n"
      ],
      "metadata": {}
    },
    {
      "cell_type": "code",
      "source": [
        "import nltk\n",
        "from nameparser.parser import HumanName\n",
        "\n",
        "nltk.download('punkt')\n",
        "nltk.download('averaged_perceptron_tagger')\n",
        "nltk.download('maxent_ne_chunker')\n",
        "nltk.download('words')\n",
        "\n",
        "def get_human_names(text):\n",
        "    tokens = nltk.tokenize.word_tokenize(text)\n",
        "    pos = nltk.pos_tag(tokens)\n",
        "    sentt = nltk.ne_chunk(pos, binary = False)\n",
        "    person_list = []\n",
        "    person = []\n",
        "    name = \"\"\n",
        "    for subtree in sentt.subtrees(filter=lambda t: t.label() == 'PERSON'):\n",
        "        for leaf in subtree.leaves():\n",
        "            person.append(leaf[0])\n",
        "        if len(person) > 1: #avoid grabbing lone surnames\n",
        "            for part in person:\n",
        "                name += part + ' '\n",
        "            if name[:-1] not in person_list:\n",
        "                person_list.append(name[:-1])\n",
        "            name = ''\n",
        "        person = []\n",
        "\n    return (person_list)"
      ],
      "outputs": [
        {
          "output_type": "stream",
          "name": "stderr",
          "text": [
            "[nltk_data] Downloading package punkt to /home/silvio/nltk_data...\n",
            "[nltk_data]   Package punkt is already up-to-date!\n",
            "[nltk_data] Downloading package averaged_perceptron_tagger to\n",
            "[nltk_data]     /home/silvio/nltk_data...\n",
            "[nltk_data]   Package averaged_perceptron_tagger is already up-to-\n",
            "[nltk_data]       date!\n",
            "[nltk_data] Downloading package maxent_ne_chunker to\n",
            "[nltk_data]     /home/silvio/nltk_data...\n",
            "[nltk_data]   Package maxent_ne_chunker is already up-to-date!\n",
            "[nltk_data] Downloading package words to /home/silvio/nltk_data...\n",
            "[nltk_data]   Package words is already up-to-date!\n"
          ]
        }
      ],
      "execution_count": 8,
      "metadata": {
        "collapsed": false,
        "outputHidden": false,
        "inputHidden": false
      }
    },
    {
      "cell_type": "code",
      "source": [
        "for element in list1:\n",
        "    text = element.find(\"a\").contents\n",
        "    print(get_human_names(str(text).split(\"\\\\n\")[1]))"
      ],
      "outputs": [
        {
          "output_type": "stream",
          "name": "stdout",
          "text": [
            "['Greta Thunberg', 'Robert Habeck', 'Reiner Haseloff', 'Wolfgang Kubicki', 'Harald Lesch']\n",
            "['Sahra Wagenknecht', 'Katja Suding', 'Alexander Jorde', 'Klaus Lieb']\n",
            "['Manfred Weber', 'Yanis Varoufakis', 'Cathrin Kahlweit', 'Christian Lindner']\n",
            "['Malu Dreyer', 'Mike Mohring', 'Katrin Göring-Eckardt', 'Petra Vogel']\n",
            "['Bischof Stephan Ackermann', 'Agnes Wich', 'Matthias Katsch', 'Heribert Prantl']\n",
            "['Heiko Maas', 'Sevim Dağdelen', 'Jürgen Trittin', 'Georg Mascolo']\n"
          ]
        }
      ],
      "execution_count": 9,
      "metadata": {
        "collapsed": false,
        "outputHidden": false,
        "inputHidden": false
      }
    },
    {
      "cell_type": "markdown",
      "source": [
        "#### joar ist doch echt 1 nicer output"
      ],
      "metadata": {
        "collapsed": false,
        "outputHidden": false,
        "inputHidden": false
      }
    },
    {
      "cell_type": "markdown",
      "source": [],
      "metadata": {}
    }
  ],
  "metadata": {
    "kernel_info": {
      "name": "python3"
    },
    "language_info": {
      "name": "python",
      "version": "3.6.7",
      "mimetype": "text/x-python",
      "codemirror_mode": {
        "name": "ipython",
        "version": 3
      },
      "pygments_lexer": "ipython3",
      "nbconvert_exporter": "python",
      "file_extension": ".py"
    },
    "kernelspec": {
      "name": "python3",
      "language": "python",
      "display_name": "Python 3"
    },
    "nteract": {
      "version": "0.12.3"
    }
  },
  "nbformat": 4,
  "nbformat_minor": 4
}